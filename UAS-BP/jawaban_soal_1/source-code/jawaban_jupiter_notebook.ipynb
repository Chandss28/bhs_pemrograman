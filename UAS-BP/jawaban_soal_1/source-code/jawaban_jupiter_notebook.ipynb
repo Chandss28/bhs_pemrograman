{
 "cells": [
  {
   "cell_type": "code",
   "execution_count": 1,
   "metadata": {},
   "outputs": [
    {
     "name": "stdout",
     "output_type": "stream",
     "text": [
      "Hello, Rome!\n"
     ]
    }
   ],
   "source": [
    "#Function untuk menyapa seseorang dengan nama yang diberikan\n",
    "def greet(name):\n",
    "    return f\"Hello, {name}!\" \n",
    "print(greet(\"Rome\")) \n"
   ]
  },
  {
   "cell_type": "markdown",
   "metadata": {},
   "source": [
    "# Function greet: Function ini menerima satu parameter name dan mengembalikan string sapaan.\n",
    "\n",
    "* Output untuk greet(\"Alice\") adalah \"Hello, Alice!\"."
   ]
  },
  {
   "cell_type": "code",
   "execution_count": null,
   "metadata": {},
   "outputs": [],
   "source": [
    "\n",
    "# Recursive function untuk menghitung faktorial dari sebuah angka\n",
    "def factorial(n):\n",
    "    if n == 0:\n",
    "        return 1\n",
    "    else:\n",
    "        return n * factorial(n - 1)\n",
    "hasil = factorial (5)\n",
    "print(f\"Hasil faktorial dari 5 adalah: {hasil}\")"
   ]
  },
  {
   "cell_type": "markdown",
   "metadata": {},
   "source": [
    "# Recursive Function factorial: Function ini menghitung faktorial dari angka n.\n",
    "\n",
    "* Basis kasusnya adalah ketika n sama dengan 0, faktorialnya adalah 1.\n",
    "* Langkah rekursifnya adalah memanggil function factorial dengan n - 1 dan mengalikan hasilnya dengan n.\n",
    "* Output untuk factorial(5) adalah 120, dan hasil ini ditampilkan dengan teks tambahan."
   ]
  }
 ],
 "metadata": {
  "kernelspec": {
   "display_name": "Python 3",
   "language": "python",
   "name": "python3"
  },
  "language_info": {
   "codemirror_mode": {
    "name": "ipython",
    "version": 3
   },
   "file_extension": ".py",
   "mimetype": "text/x-python",
   "name": "python",
   "nbconvert_exporter": "python",
   "pygments_lexer": "ipython3",
   "version": "3.10.12"
  }
 },
 "nbformat": 4,
 "nbformat_minor": 2
}
