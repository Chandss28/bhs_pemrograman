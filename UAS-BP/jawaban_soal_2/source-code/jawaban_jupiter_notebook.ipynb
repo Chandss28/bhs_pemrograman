{
 "cells": [
  {
   "cell_type": "code",
   "execution_count": 1,
   "metadata": {},
   "outputs": [
    {
     "name": "stdout",
     "output_type": "stream",
     "text": [
      "Operasi pembagian selesai.\n",
      "5.0\n",
      "Operasi pembagian selesai.\n",
      "Error: Pembagi tidak boleh nol.\n",
      "Operasi pembagian selesai.\n",
      "Error: Harap masukkan angka yang valid.\n"
     ]
    }
   ],
   "source": [
    "def divide_numbers(numerator, denominator):\n",
    "    try:\n",
    "        result = numerator / denominator\n",
    "    except ZeroDivisionError:\n",
    "        return \"Error: Pembagi tidak boleh nol.\"\n",
    "    except TypeError:\n",
    "        return \"Error: Harap masukkan angka yang valid.\"\n",
    "    except Exception as e:\n",
    "        return f\"Error: {str(e)}\"\n",
    "    else:\n",
    "        return result\n",
    "    finally:\n",
    "        print(\"Operasi pembagian selesai.\")\n",
    "\n",
    "print(divide_numbers(10, 2))\n",
    "print(divide_numbers(10, 0))\n",
    "print(divide_numbers(10, 'a'))\n"
   ]
  },
  {
   "cell_type": "markdown",
   "metadata": {},
   "source": [
    "# Penjelasan Kode\n",
    "* Blok \"try\": Mencoba untuk membagi numerator dengan denominator.\n",
    "* Blok \"except ZeroDivisionError\": Menangani kasus di mana denominator adalah nol, yang akan menyebabkan kesalahan pembagian.\n",
    "* Blok \"except TypeError\": Menangani kasus di mana argumen bukan angka, seperti string.\n",
    "* Blok \"except Exception\": Menangani kesalahan lain yang mungkin terjadi dan tidak tertangani oleh blok except sebelumnya.\n",
    "* Blok \"else\": Jika tidak ada kesalahan, mengembalikan hasil pembagian.\n",
    "* Blok \"finally\": Selalu dijalankan setelah try dan except, menampilkan pesan bahwa operasi telah selesai."
   ]
  }
 ],
 "metadata": {
  "kernelspec": {
   "display_name": "Python 3",
   "language": "python",
   "name": "python3"
  },
  "language_info": {
   "codemirror_mode": {
    "name": "ipython",
    "version": 3
   },
   "file_extension": ".py",
   "mimetype": "text/x-python",
   "name": "python",
   "nbconvert_exporter": "python",
   "pygments_lexer": "ipython3",
   "version": "3.10.12"
  }
 },
 "nbformat": 4,
 "nbformat_minor": 2
}
